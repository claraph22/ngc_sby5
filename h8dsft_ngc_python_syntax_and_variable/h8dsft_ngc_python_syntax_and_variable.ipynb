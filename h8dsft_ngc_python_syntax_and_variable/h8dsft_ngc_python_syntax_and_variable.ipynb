{
 "cells": [
  {
   "cell_type": "markdown",
   "metadata": {},
   "source": [
    "# Non-Graded Challenge 1"
   ]
  },
  {
   "cell_type": "markdown",
   "metadata": {},
   "source": [
    "# Task 1"
   ]
  },
  {
   "cell_type": "markdown",
   "metadata": {},
   "source": [
    "## Diberikan daftar customer_id yang melakukan transaksi dalam 1 hari"
   ]
  },
  {
   "cell_type": "code",
   "execution_count": 5,
   "metadata": {},
   "outputs": [
    {
     "name": "stdout",
     "output_type": "stream",
     "text": [
      "Jumlah customer_id unik: 12\n"
     ]
    }
   ],
   "source": [
    "# Daftar customer_id\n",
    "customer_id = ['B818', 'A461', 'A092', 'A082', 'B341', 'A005', 'A092', 'A461', 'B219', 'B904', 'A901', 'A083', 'B904', 'A092', 'B341', 'B821', 'B341', 'B821', 'B904', 'B818', 'A901', 'A083', 'B818', 'A082', 'B219', 'B219', 'A083', 'A901', 'A082', 'B341', 'B341', 'A083', 'A082', 'B219', 'B439', 'A461', 'A005', 'A901', 'B341', 'A082', 'A083', 'A461', 'A083', 'A901', 'A461', 'A083', 'A082', 'A083', 'B341', 'A901', 'A082', 'A461', 'B219', 'A083', 'B818', 'B821', 'A092', 'B341', 'A461', 'A092', 'A083', 'B821', 'A092']\n",
    "\n",
    "# Menghitung jumlah customer_id unik\n",
    "jumlah_customer_unik = len(set(customer_id))\n",
    "\n",
    "# Menampilkan hasil\n",
    "print(\"Jumlah customer_id unik:\", jumlah_customer_unik)\n"
   ]
  },
  {
   "cell_type": "markdown",
   "metadata": {},
   "source": [
    "Jumlah customer_id unik: 12"
   ]
  },
  {
   "cell_type": "markdown",
   "metadata": {},
   "source": [
    "# TAKS 2"
   ]
  },
  {
   "cell_type": "code",
   "execution_count": 6,
   "metadata": {},
   "outputs": [
    {
     "name": "stdout",
     "output_type": "stream",
     "text": [
      "a.  16\n",
      "b.  [36, 49, 64, 81, 100]\n",
      "c.  [100, 81, 64, 49, 36, 25, 16, 9, 4, 1]\n",
      "d.  10\n"
     ]
    }
   ],
   "source": [
    "# List data\n",
    "Data = [1, 4, 9, 16, 25, 36, 49, 64, 81, 100]\n",
    "\n",
    "# a. Mendapatkan elemen dengan indeks 3 (indeks dimulai dari 0)\n",
    "output_a = Data[3]\n",
    "print(\"a. \", output_a)\n",
    "\n",
    "# b. Mendapatkan sublist dari indeks 5 ke depan\n",
    "output_b = Data[5:]\n",
    "print(\"b. \", output_b)\n",
    "\n",
    "# c. Mendapatkan sublist dalam urutan terbalik\n",
    "output_c = Data[::-1]\n",
    "print(\"c. \", output_c)\n",
    "\n",
    "# d. Mendapatkan jumlah elemen dalam list\n",
    "output_d = len(Data)\n",
    "print(\"d. \", output_d)\n"
   ]
  },
  {
   "cell_type": "markdown",
   "metadata": {},
   "source": [
    "OUTPUT\n",
    "\n",
    "a.  16\n",
    "\n",
    "\n",
    "b.  [36, 49, 64, 81, 100]\n",
    "\n",
    "\n",
    "c.  [100, 81, 64, 49, 36, 25, 16, 9, 4, 1]\n",
    "\n",
    "\n",
    "d.  10"
   ]
  },
  {
   "cell_type": "markdown",
   "metadata": {},
   "source": [
    "# TAKS 3"
   ]
  },
  {
   "cell_type": "markdown",
   "metadata": {},
   "source": [
    "## a. Untuk mendapatkan daftar kunci yang tersedia dalam Dictionary"
   ]
  },
  {
   "cell_type": "code",
   "execution_count": 7,
   "metadata": {},
   "outputs": [
    {
     "name": "stdout",
     "output_type": "stream",
     "text": [
      "Daftar kunci yang tersedia dalam kamus: ['Nanggroe Aceh Darussalam', 'Sumatera Selatan', 'Kalimantan Barat', 'Jawa Timur', 'Sulawesi Selatan', 'Maluku']\n"
     ]
    }
   ],
   "source": [
    "# Dictionary\n",
    "provinsi = {'Nanggroe Aceh Darussalam': 'Aceh', 'Sumatera Selatan': 'Palembang', 'Kalimantan Barat': 'Pontianak', 'Jawa Timur': 'Madiun', 'Sulawesi Selatan': 'Makassar', 'Maluku': 'Ambon'}\n",
    "\n",
    "# Mendapatkan daftar kunci yang tersedia dalam Dictionary\n",
    "keys_list = list(provinsi.keys())\n",
    "print(\"Daftar kunci yang tersedia dalam kamus:\", keys_list)\n"
   ]
  },
  {
   "cell_type": "markdown",
   "metadata": {},
   "source": [
    "b. Untuk mengubah nilai 'Jawa Timur' dari 'Madiun' menjadi 'Surabaya':"
   ]
  },
  {
   "cell_type": "code",
   "execution_count": 8,
   "metadata": {},
   "outputs": [
    {
     "name": "stdout",
     "output_type": "stream",
     "text": [
      "Kamus setelah mengubah nilai 'Jawa Timur' menjadi 'Surabaya': {'Nanggroe Aceh Darussalam': 'Aceh', 'Sumatera Selatan': 'Palembang', 'Kalimantan Barat': 'Pontianak', 'Jawa Timur': 'Surabaya', 'Sulawesi Selatan': 'Makassar', 'Maluku': 'Ambon'}\n"
     ]
    }
   ],
   "source": [
    "# Mengubah nilai 'Jawa Timur' dari 'Madiun' menjadi 'Surabaya'\n",
    "provinsi['Jawa Timur'] = 'Surabaya'\n",
    "print(\"Kamus setelah mengubah nilai 'Jawa Timur' menjadi 'Surabaya':\", provinsi)\n"
   ]
  }
 ],
 "metadata": {
  "kernelspec": {
   "display_name": "base",
   "language": "python",
   "name": "python3"
  },
  "language_info": {
   "codemirror_mode": {
    "name": "ipython",
    "version": 3
   },
   "file_extension": ".py",
   "mimetype": "text/x-python",
   "name": "python",
   "nbconvert_exporter": "python",
   "pygments_lexer": "ipython3",
   "version": "3.11.7"
  }
 },
 "nbformat": 4,
 "nbformat_minor": 2
}
